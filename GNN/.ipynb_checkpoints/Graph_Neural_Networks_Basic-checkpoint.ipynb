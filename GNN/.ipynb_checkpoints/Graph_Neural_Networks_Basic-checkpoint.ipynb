{
 "cells": [
  {
   "cell_type": "markdown",
   "metadata": {
    "id": "1gBxcjRDEliK"
   },
   "source": [
    "# Graph Neural Networks 실습 (Basic)\n",
    "\n",
    "Standford CS224w(Fall 2019)에서 실습을 참고하였습니다.\n",
    "\n",
    "최근 열린 강좌(Winter 2021)에서의 실습은 CS에서 다루는 구현적 내용이 많아서, 필요하신 분은 참고하시면 될 것 같습니다.[2][3]<br>\n",
    "(CS 전공자 분들은 해당 강좌 Colab3 과제를 해보시는 것도 좋을 것 같습니다... 보다 최신 라이브러리를 활용해서 더 효율적인 그래프 처리를 진행합니다.)<br>\n",
    "이 추가적인 모델 구현은 다음 세션에서 Pytorch Modeling을 구체적으로 실습하면서 ResNet과 함께 구현해보겠습니다.\n",
    "\n",
    "실습에서는 PyTorch의 사용법을 간단하게 살펴보고, PyG(Pytorch Geometric)을 이용해서 GNN 실습을 진행해보고, 텐서보드에서 그 진행상황을 기록하고, Unsupervised의 임베딩을 matplotlib으로 시각화 해보겠습니다.\n",
    "\n",
    "참고) GNN 모델링 시에 PyTorch Geometric Documentation이 매우 자세한 편이라서 이를 참고하는 것이 베스트입니다[1]"
   ]
  },
  {
   "cell_type": "markdown",
   "metadata": {
    "id": "BwdncyH6CEZ9"
   },
   "source": [
    "# 0단계: PyTorch 준비 및 복습"
   ]
  },
  {
   "cell_type": "markdown",
   "metadata": {
    "id": "feCFN2K3Hcte"
   },
   "source": [
    "파이토치와 그외 사이킷런을 이용한 평가 등을 진행하기 위해 관련 라이브러리를 임포트하겠습니다."
   ]
  },
  {
   "cell_type": "code",
   "execution_count": 1,
   "metadata": {
    "id": "YNtPXYKmCVow"
   },
   "outputs": [],
   "source": [
    "import torch\n",
    "import torch.nn as nn\n",
    "import torch.nn.functional as F\n",
    "import torchvision\n",
    "import torchvision.transforms as transforms\n",
    "import sklearn.metrics as metrics"
   ]
  },
  {
   "cell_type": "markdown",
   "metadata": {
    "id": "Z7L1yNOAILmW"
   },
   "source": [
    "이전에 CNN 세션에서 파이토치를 사용하는 방법을 익혔지만 다시한번 복습을 진행하겠습니다.\n",
    "여기서는 Dataloader의 사용에 집중하시면 됩니다."
   ]
  },
  {
   "cell_type": "code",
   "execution_count": 2,
   "metadata": {
    "colab": {
     "base_uri": "https://localhost:8080/",
     "height": 1000
    },
    "id": "3M3Ckk-xEvXm",
    "outputId": "64283c17-8c64-447c-d803-54df98292c23"
   },
   "outputs": [],
   "source": [
    "BATCH_SIZE = 32\n",
    "\n",
    "## transformations\n",
    "transform = transforms.Compose([transforms.ToTensor()])\n",
    "\n",
    "## download and load training dataset\n",
    "trainset = torchvision.datasets.MNIST(root='./data', train=True,\n",
    "                                        download=True, transform=transform)\n",
    "# 데이터로더를 활용하면 사이즈별로 나눠주고 iterator 형식으로 저장하며, 뒤에서 보겠지만, (data, label) 와 같은 형식으로 건네줍니다.\n",
    "trainloader = torch.utils.data.DataLoader(trainset, batch_size=BATCH_SIZE,\n",
    "                                          shuffle=True, num_workers=2)\n",
    "\n",
    "## download and load testing dataset\n",
    "testset = torchvision.datasets.MNIST(root='./data', train=False,\n",
    "                                       download=True, transform=transform)\n",
    "testloader = torch.utils.data.DataLoader(testset, batch_size=BATCH_SIZE,\n",
    "                                         shuffle=False, num_workers=2)"
   ]
  },
  {
   "cell_type": "code",
   "execution_count": 3,
   "metadata": {
    "colab": {
     "base_uri": "https://localhost:8080/",
     "height": 1000
    },
    "id": "X8V5S0a4gaR3",
    "outputId": "f13aad2a-e69a-42cf-c834-b5efbefb0035"
   },
   "outputs": [
    {
     "name": "stdout",
     "output_type": "stream",
     "text": [
      "60000\n"
     ]
    }
   ],
   "source": [
    "# MNIST의 6만개 데이터셋과 일치합니다\n",
    "print(len(trainset))\n",
    "# 28x28을 출력하고 싶다면 아래를 실행해보시면 됩니다.\n",
    "# print(trainset[10])"
   ]
  },
  {
   "cell_type": "markdown",
   "metadata": {
    "id": "u1jlPrOmIlIJ"
   },
   "source": [
    "파이토치의 모델은 `nn.Module`을 슈퍼클래스로 가집니다.<br>\n",
    "그외 아래에서 보이는 레이어들에 대해서는 이전 CNN 세션에서 다뤘기 때문에 패스하겠습니다.<br>\n",
    "파이토치 모델에서 중요한 점은 `forward` 메소드를 반드시 구현해줘야한다는 것입니다. 이를 통해 parameter 업데이트와 미분이 가능하기 때문입니다. 복잡한 것이 아니라 단계적으로 layer에 값을 통과시켜주도록 메소드를 구현해주면 됩니다."
   ]
  },
  {
   "cell_type": "code",
   "execution_count": 4,
   "metadata": {
    "id": "Y8zge1JmEyAD"
   },
   "outputs": [],
   "source": [
    "class MyModel(nn.Module):\n",
    "    def __init__(self):\n",
    "        super(MyModel, self).__init__()\n",
    "\n",
    "        # 28x28x1 => 26x26x32\n",
    "        self.conv1 = nn.Conv2d(in_channels=1, out_channels=32, kernel_size=3)\n",
    "        self.d1 = nn.Linear(26 * 26 * 32, 128)\n",
    "        self.d2 = nn.Linear(128, 10)\n",
    "\n",
    "    def forward(self, x):\n",
    "        # 32x1x28x28 => 32x32x26x26\n",
    "        x = self.conv1(x)\n",
    "        x = F.relu(x)\n",
    "\n",
    "        # flatten => 32 x (32*26*26)\n",
    "        x = x.flatten(start_dim = 1)\n",
    "        #x = x.view(32, -1)\n",
    "\n",
    "        # 32 x (32*26*26) => 32x128\n",
    "        x = self.d1(x)\n",
    "        x = F.relu(x)\n",
    "\n",
    "        # logits => 32x10\n",
    "        logits = self.d2(x)\n",
    "        out = F.softmax(logits, dim=1)\n",
    "        return out"
   ]
  },
  {
   "cell_type": "markdown",
   "metadata": {},
   "source": [
    "아래에서는 간단하게 파이토치의 `device` 개념에 대해서 살펴보도록 하겠습니다.<br>\n",
    "Nvidia cuda가 제대로 설정이 되어있다면, `torch.cuda.is_available()`에서 True가 나오고 아니라면 False가 나오게 됩니다.<br>\n",
    "cuda 코어를 활용하면 병렬 연산을 빠르게 수행할 수 있기 때문에 더 빠른 계산을 진행할 수 있습니다.<br>\n",
    "(아마 이번 실습 수준에서는 gpu가 필요없겠지만, 실습 수준일 조금만 벗어나도 반드시 필요합니다. 아마 여러분이 진행하시는 모델링 프로젝트에서도 반드시 필요할 것이라고 생각됩니다. 그러한 경우에는 구글 코랩을 활용하시거나 개인 gpu를 활용해서 진행하시길 바랍니다.)"
   ]
  },
  {
   "cell_type": "code",
   "execution_count": 5,
   "metadata": {},
   "outputs": [
    {
     "name": "stdout",
     "output_type": "stream",
     "text": [
      "cpu\n"
     ]
    }
   ],
   "source": [
    "if torch.cuda.is_available():\n",
    "    device = 'cuda:0'\n",
    "else:\n",
    "    device = 'cpu'\n",
    "    \n",
    "print(device)"
   ]
  },
  {
   "cell_type": "markdown",
   "metadata": {},
   "source": [
    "`.to()` 메소드를 이용하면 객체를 gpu로 송신할 수 있고 그 이후에 cuda를 이용해서 연산이 가능합니다.<br>\n",
    "연산을 진행할 때 cuda 위의 객체(in graphic memory)와 cpu 위의 객체(in memory)를 같이 연산할 경우 오류가 나기 때문에 유의하셔야합니다."
   ]
  },
  {
   "cell_type": "code",
   "execution_count": 6,
   "metadata": {
    "colab": {
     "base_uri": "https://localhost:8080/",
     "height": 87
    },
    "id": "81sghL-oijxb",
    "outputId": "c989379c-5729-48ce-d964-4e5326a183eb"
   },
   "outputs": [
    {
     "name": "stdout",
     "output_type": "stream",
     "text": [
      "tensor([[1., 2.],\n",
      "        [3., 4.]], dtype=torch.float64)\n",
      "tensor([[3., 3.],\n",
      "        [7., 7.]], dtype=torch.float64)\n"
     ]
    }
   ],
   "source": [
    "import numpy as np\n",
    "a = np.array([[1,2],[3,4]])\n",
    "b = np.ones((2,2))\n",
    "\n",
    "ta = torch.tensor(a, dtype=float).to(device)\n",
    "tb = torch.ones(2,2, dtype=float).to(device)\n",
    "\n",
    "print(ta)\n",
    "print(ta @ tb) # matmul 함수와 동일합니다."
   ]
  },
  {
   "cell_type": "markdown",
   "metadata": {
    "id": "3wbgpv4yU0MF"
   },
   "source": [
    "이전에 공부했듯이, 모델을 설정하고 해당 모델을 gpu 상에 올려줍니다. <br>\n",
    "또한 `criterion(loss)`함수를 설정해주고, GD를 위한 `optimizer`를 설정해줍니다.<br>\n",
    "모델과 `criterion`, `optimizer`간의 상호작용은 뒤에서 설명하겠습니다."
   ]
  },
  {
   "cell_type": "code",
   "execution_count": 7,
   "metadata": {
    "id": "JhN99DECU6Hr"
   },
   "outputs": [],
   "source": [
    "learning_rate = 0.001\n",
    "num_epochs = 1 # 실습이니 1 에폭만 돌립니다... 한 5에폭 돌리면 98-99퍼 accuracy 나옵니다\n",
    "\n",
    "if torch.cuda.is_available():\n",
    "    device = 'cuda:0'\n",
    "else:\n",
    "    device = 'cpu'\n",
    "\n",
    "model = MyModel()\n",
    "model = model.to(device)\n",
    "criterion = nn.CrossEntropyLoss()\n",
    "optimizer = torch.optim.Adam(model.parameters(), lr=learning_rate)"
   ]
  },
  {
   "cell_type": "markdown",
   "metadata": {
    "id": "c6jDPUQiWEu4"
   },
   "source": [
    "Now let's write our training loop. For each minibatch (accessed by enumerating through our data loader `trainloader`), we run our data through `model` in a forward pass, then compute the loss with `criterion`. We call `optimizer.zero_grad()` to zero out the gradients from the previous round of training, followed by `loss.backward()` to backpropagate the new round of gradients and finally `optimizer.step()` to adjust the model parameters based on these gradients."
   ]
  },
  {
   "cell_type": "code",
   "execution_count": 8,
   "metadata": {
    "colab": {
     "base_uri": "https://localhost:8080/",
     "height": 347
    },
    "id": "uGoOz_zjE2EH",
    "outputId": "968268b7-de5e-441e-b5c4-dce0d8effc8c"
   },
   "outputs": [
    {
     "name": "stdout",
     "output_type": "stream",
     "text": [
      "Epoch: 0 | Loss: 1.6130 | Train Accuracy: 0.85\n"
     ]
    }
   ],
   "source": [
    "for epoch in range(num_epochs):\n",
    "    train_running_loss = 0.0\n",
    "    train_acc = 0.0\n",
    "\n",
    "    ## training step\n",
    "    # 앞에서 설명한 바와 마찬가지로 (data, label) 형태로 배치사이즈에 맞게 반환해줍니다.\n",
    "    for i, (images, labels) in enumerate(trainloader):\n",
    "        \n",
    "        # in memory의 데이터를 gpu로 올려야 연산이 가능합니다.\n",
    "        images = images.to(device)\n",
    "        labels = labels.to(device)\n",
    "\n",
    "        ## forward + backprop + loss\n",
    "        logits = model(images) # 모델에 데이터를 통과시켜서 계산합니다\n",
    "        loss = criterion(logits, labels) # 계산한 logit(CELoss 입니다...)을 loss함수에 넣어서 계산합니다.\n",
    "        # 이부분에서 왜 loss를 이용했는데 optimizer.step()을 하면 업데이트 되는지 궁금해 하시는 분들이 많습니다.\n",
    "        # 파이토치 코드를 보고 모델을 실제로 디버깅 해보시면, (디버깅 모드에서 model을 print해서 보시면 됩니다.)\n",
    "        # loss는 파이토치 모델 내의 gradient 변수에 값을 저장합니다.\n",
    "        # 그런데, optimizer는 model.parameters()를 통해서 모델과 연결되어있습니다.\n",
    "        # 따라서 gradient update와 parameter update가 가능합니다.\n",
    "        # (CS224w 강의에서 애매하게 답변이 나왔는데, 정확한 분석은 위와 같습니다.)\n",
    "        optimizer.zero_grad() # 중요한 부분입니다: gradient 초기화를 해주지 않으면 이전 gradient와 accum 합니다. (순서가 중요)\n",
    "        loss.backward() # 계산한 loss 함수를 이용해서 미분값을 계산합니다\n",
    "\n",
    "        ## update model params\n",
    "        optimizer.step() # 계산한 미분값을 이용해서 파라미터를 업데이트 합니다.\n",
    "\n",
    "        train_running_loss += loss.detach().item()\n",
    "        train_acc += (torch.argmax(logits, 1).flatten() == labels).type(torch.float).mean().item()\n",
    "    \n",
    "    print('Epoch: %d | Loss: %.4f | Train Accuracy: %.2f' \\\n",
    "          %(epoch, train_running_loss / i, train_acc/i))"
   ]
  },
  {
   "cell_type": "markdown",
   "metadata": {
    "id": "uvK4hr1OXLWu"
   },
   "source": [
    "테스트를 위해서는 forward만 진행하면 됩니다."
   ]
  },
  {
   "cell_type": "code",
   "execution_count": 9,
   "metadata": {
    "colab": {
     "base_uri": "https://localhost:8080/",
     "height": 35
    },
    "id": "umfoz-KMW7Rs",
    "outputId": "3e4eaeb0-8d4c-4c40-99f3-2ad0cb659b83"
   },
   "outputs": [
    {
     "name": "stdout",
     "output_type": "stream",
     "text": [
      "Test Accuracy: 0.97\n"
     ]
    }
   ],
   "source": [
    "test_acc = 0.0\n",
    "for i, (images, labels) in enumerate(testloader, 0):\n",
    "    images = images.to(device)\n",
    "    labels = labels.to(device)\n",
    "    outputs = model(images)\n",
    "    test_acc += (torch.argmax(outputs, 1).flatten() == labels).type(torch.float).mean().item()\n",
    "    preds = torch.argmax(outputs, 1).flatten().cpu().numpy()\n",
    "        \n",
    "print('Test Accuracy: %.2f'%(test_acc/i))"
   ]
  },
  {
   "cell_type": "markdown",
   "metadata": {
    "id": "OJ4OIG8r5EfI"
   },
   "source": [
    "# 1단계: PyTorch Geometric 등 Setup"
   ]
  },
  {
   "cell_type": "markdown",
   "metadata": {
    "id": "XyzIhe0O5ije"
   },
   "source": [
    "GNN 생성을 위한 PyG와 텐서보드X를 설치합니다."
   ]
  },
  {
   "cell_type": "code",
   "execution_count": 10,
   "metadata": {
    "colab": {
     "base_uri": "https://localhost:8080/",
     "height": 1000
    },
    "id": "LwTG61Ibo4dG",
    "outputId": "cb451a07-1b32-4142-f06d-a031f8b8fedd"
   },
   "outputs": [],
   "source": [
    "# !pip install --verbose --no-cache-dir torch-scatter\n",
    "# !pip install --verbose --no-cache-dir torch-sparse\n",
    "# !pip install --verbose --no-cache-dir torch-cluster\n",
    "# !pip install torch-geometric\n",
    "# !pip install tensorboardX"
   ]
  },
  {
   "cell_type": "markdown",
   "metadata": {
    "id": "z550TutV5vhQ"
   },
   "source": [
    "필요한 라이브러리들을 임포트합니다."
   ]
  },
  {
   "cell_type": "code",
   "execution_count": 11,
   "metadata": {
    "colab": {
     "base_uri": "https://localhost:8080/",
     "height": 395
    },
    "id": "MlFlxfL5dgn2",
    "outputId": "a57ec863-efbe-400b-c3b4-5a64f0ece46c"
   },
   "outputs": [],
   "source": [
    "import torch\n",
    "import torch.nn as nn\n",
    "import torch.nn.functional as F\n",
    "\n",
    "import torch_geometric.nn as pyg_nn\n",
    "import torch_geometric.utils as pyg_utils\n",
    "\n",
    "import time\n",
    "from datetime import datetime\n",
    "\n",
    "import networkx as nx\n",
    "import numpy as np\n",
    "import torch\n",
    "import torch.optim as optim\n",
    "\n",
    "# 실습용 그래프 데이터와 이를 사용하기 위한 데이터로더입니다.\n",
    "from torch_geometric.datasets import TUDataset\n",
    "from torch_geometric.datasets import Planetoid\n",
    "from torch_geometric.data import DataLoader\n",
    "\n",
    "import torch_geometric.transforms as T\n",
    "\n",
    "# 텐서보드를 이용해서 시각화하기 위해 필요합니다.\n",
    "from tensorboardX import SummaryWriter\n",
    "# 임베딩의 시각화를 위해서 필요합니다.\n",
    "from sklearn.manifold import TSNE\n",
    "import matplotlib.pyplot as plt"
   ]
  },
  {
   "cell_type": "markdown",
   "metadata": {
    "id": "aCgqxSiq6I4B"
   },
   "source": [
    "# 2단계: GNN 모델 구성"
   ]
  },
  {
   "cell_type": "markdown",
   "metadata": {
    "id": "2Nc20DEc6PO5"
   },
   "source": [
    "GNN을 이용한 모델링에는 3가지가 있습니다. (1: 노드 분류, 2: 그래프 분류, 3: 링크 예측)<br>\n",
    "우선, 노드분류와 그래프분류 모델링을 살펴보고, 뒤의 unsupervised에서 링크 예측을 진행해보겠습니다. <br>\n",
    "`build_conv_model` 메소드에서는 어떤 노드분류와 그래프분류 모델링을 위한 각 모델을 골라서 레이어를 만들어줍니다. <br>\n",
    "PyTorch Geometric에서는 이들 레이어에 대해서 바로 사용가능한 모듈을 제공해줍니다. Winter 2021 강좌에서는 이러한 레이어를 GraphSAGE와 GAT에 대해 구현해보는 것을 과제로 하고 있습니다. 사실 이 모델은 https://pytorch-geometric.readthedocs.io/en/latest/_modules/torch_geometric/nn/conv/sage_conv.html#SAGEConv, https://pytorch-geometric.readthedocs.io/en/latest/_modules/torch_geometric/nn/conv/gcn_conv.html#GCNConv 이곳을 살펴보면 되며, 앞의 세션에서 살펴본 내용을 그대로 torch 연산을 통해 진행하는 것 외에 특별한 점은 없습니다.<br>\n",
    "아래에서는 3레이어의 conv 레이어를 이용하고 마지막으로 mean pooling과 fc 레이어 2개를 이용해서 진행하였습니다. <br>\n",
    "분류를 목적으로 하기 때문에 loss의 경우에는 nll loss를 이용하였습니다."
   ]
  },
  {
   "cell_type": "code",
   "execution_count": 12,
   "metadata": {
    "id": "ymy1pgN5oNQG"
   },
   "outputs": [],
   "source": [
    "class GNNStack(nn.Module):\n",
    "    def __init__(self, input_dim, hidden_dim, output_dim, task='node'):\n",
    "        super(GNNStack, self).__init__()\n",
    "        self.task = task\n",
    "        # 모듈리스트를 이용해서 레이어 추가\n",
    "        self.convs = nn.ModuleList()\n",
    "        self.convs.append(self.build_conv_model(input_dim, hidden_dim))\n",
    "        # 정규화 레이어 추가\n",
    "        self.lns = nn.ModuleList()\n",
    "        self.lns.append(nn.LayerNorm(hidden_dim))\n",
    "        self.lns.append(nn.LayerNorm(hidden_dim))\n",
    "        # 총 3개 레이어 이므로 2개 추가\n",
    "        for l in range(2):\n",
    "            self.convs.append(self.build_conv_model(hidden_dim, hidden_dim))\n",
    "\n",
    "        # post-message-passing\n",
    "        self.post_mp = nn.Sequential(\n",
    "            nn.Linear(hidden_dim, hidden_dim), nn.Dropout(0.25), \n",
    "            nn.Linear(hidden_dim, output_dim))\n",
    "        if not (self.task == 'node' or self.task == 'graph'):\n",
    "            raise RuntimeError('Unknown task.')\n",
    "\n",
    "        self.dropout = 0.25\n",
    "        self.num_layers = 3\n",
    "\n",
    "    def build_conv_model(self, input_dim, hidden_dim):\n",
    "        # refer to pytorch geometric nn module for different implementation of GNNs.\n",
    "        if self.task == 'node':\n",
    "            # 원래는 GCNConv를 이용하지만, 아래에서 구현해본 결과를 살펴보기 위해서 해볼 것!\n",
    "            return pyg_nn.GCNConv(input_dim, hidden_dim)\n",
    "            #return CustomConv(input_dim, hidden_dim)\n",
    "        else:\n",
    "            return pyg_nn.GINConv(nn.Sequential(nn.Linear(input_dim, hidden_dim),\n",
    "                                  nn.ReLU(), nn.Linear(hidden_dim, hidden_dim)))\n",
    "\n",
    "    def forward(self, data):\n",
    "        x, edge_index, batch = data.x, data.edge_index, data.batch\n",
    "        if data.num_node_features == 0:\n",
    "          x = torch.ones(data.num_nodes, 1)\n",
    "        \n",
    "        # 각 레이어 사이에는 ReLU와 오버피팅을 막기 위한 드롭아웃 추가\n",
    "        # 그러나 마지막 레이어에는 추가하지 말아야함... 성능상 이유\n",
    "        for i in range(self.num_layers):\n",
    "            x = self.convs[i](x, edge_index)\n",
    "            emb = x\n",
    "            x = F.relu(x)\n",
    "            x = F.dropout(x, p=self.dropout, training=self.training)\n",
    "            if not i == self.num_layers - 1:\n",
    "                x = self.lns[i](x)\n",
    "        \n",
    "        # 그래프 분류의 경우에는 mean pool 진행해야함\n",
    "        if self.task == 'graph':\n",
    "            x = pyg_nn.global_mean_pool(x, batch)\n",
    "        \n",
    "        # 분류를 위한 fc 통과\n",
    "        x = self.post_mp(x)\n",
    "\n",
    "        return emb, F.log_softmax(x, dim=1)\n",
    "\n",
    "    def loss(self, pred, label):\n",
    "        return F.nll_loss(pred, label)"
   ]
  },
  {
   "cell_type": "markdown",
   "metadata": {
    "id": "8l8hy4NSvu7J"
   },
   "source": [
    "Here pyg_nn.GCNConv and pyg_nn.GINConv are instances of MessagePassing.<br>\n",
    "(모든 PyG에서의 모델은 그래프의 기본인 MessagePassig을 슈퍼 클래스로 가진다.)<br>\n",
    "They define a single layer of graph convolution, which can be decomposed into:<br>\n",
    "(이들은 아래와 같은 이전 세션에서 다룬 기본 연산을 진행한다.)\n",
    "* Message computation\n",
    "* Aggregation\n",
    "* Update\n",
    "* Pooling\n",
    "\n",
    "Here we give an example of how to subclass the pytorch geometric MessagePassing class to derive a new model (rather than using existing GCNConv and GINConv).<br>\n",
    "(아래 예시에서는 실제로 이러한 사실을 감안해서 GCNConv를 구현해본다.)\n",
    "\n",
    "아래와 같은 특성을 이용해서 실제로 GCNConv를 구현해보고, 이를 위의 모델과 만든 모델 간 각각 실행해서 효과가 동일한지 살펴볼 것!\n",
    "We make use of `MessagePassing`'s key building blocks:\n",
    "- `aggr='add'`: The aggregation method to use (\"add\", \"mean\" or \"max\").\n",
    "- `propagate()`: The initial call to start propagating messages. Takes in the edge indices and any other data to pass along (e.g. to update node embeddings).\n",
    "- `message()`: Constructs messages to node i. Takes any argument which was initially passed to propagate().\n",
    "- `update()`: Updates node embeddings. Takes in the output of aggregation as first argument and any argument which was initially passed to propagate().\n",
    "\n",
    "여기를 참고하면 큰 도움이 됩니다.<br>\n",
    "https://pytorch-geometric.readthedocs.io/en/latest/notes/create_gnn.html#implementing-the-gcn-layer"
   ]
  },
  {
   "cell_type": "code",
   "execution_count": 13,
   "metadata": {
    "id": "V_0yhAPgvttr"
   },
   "outputs": [],
   "source": [
    "class CustomConv(pyg_nn.MessagePassing):\n",
    "    def __init__(self, in_channels, out_channels):\n",
    "        super(CustomConv, self).__init__(aggr='add')  # \"Add\" aggregation.\n",
    "        self.lin = nn.Linear(in_channels, out_channels)\n",
    "        \n",
    "#         # 방법2를 해보기 위해서 추가함.\n",
    "#         self.lin_self = nn.Linear(in_channels, out_channels)\n",
    "\n",
    "    def forward(self, x, edge_index):\n",
    "        # x has shape [N, in_channels]\n",
    "        # edge_index has shape [2, E]\n",
    "        \n",
    "        # 방법 1 : self loop를 메소드로 추가\n",
    "        # Step 1: Add self-loops to the adjacency matrix.\n",
    "        edge_index, _ = pyg_utils.add_self_loops(edge_index, num_nodes=x.size(0))\n",
    "        # Step 2: Linearly transform node feature matrix.\n",
    "        x = self.lin(x)\n",
    "        return self.propagate(edge_index, size=(x.size(0), x.size(0)), x=x)\n",
    "        \n",
    "#         # 방법 2: 수동으로 Identity Matrix 더해줌\n",
    "#         # Step 1: Remove self-loops from the adjacency matrix. (add later)\n",
    "#         edge_index, _ = pyg_utils.remove_self_loops(edge_index)\n",
    "#         # Step 2: Linearly transform node feature matrix.\n",
    "#         self_x = self.lin_self(x)\n",
    "#         return self_x + self.propagate(edge_index, size=(x.size(0), x.size(0)), x=self.lin(x))\n",
    "\n",
    "    def message(self, x_j, edge_index, size):\n",
    "        # Compute messages\n",
    "        # x_j has shape [E, out_channels]\n",
    "\n",
    "        # Step 3: Compute normalization.\n",
    "        # Step 4: Normalize node features.\n",
    "        # Step 4-5: Start propagating messages.\n",
    "        row, col = edge_index\n",
    "        deg = pyg_utils.degree(row, size[0], dtype=x_j.dtype)\n",
    "        deg_inv_sqrt = deg.pow(-0.5)\n",
    "        norm = deg_inv_sqrt[row] * deg_inv_sqrt[col]\n",
    "\n",
    "        return norm.view(-1, 1) * x_j\n",
    "\n",
    "    def update(self, aggr_out):\n",
    "        # aggr_out has shape [N, out_channels]\n",
    "        \n",
    "        return aggr_out"
   ]
  },
  {
   "cell_type": "code",
   "execution_count": 14,
   "metadata": {},
   "outputs": [],
   "source": [
    "class GNNCustomStack(nn.Module):\n",
    "    def __init__(self, input_dim, hidden_dim, output_dim, task='node'):\n",
    "        super(GNNCustomStack, self).__init__()\n",
    "        self.task = task\n",
    "        # 모듈리스트를 이용해서 레이어 추가\n",
    "        self.convs = nn.ModuleList()\n",
    "        self.convs.append(self.build_conv_model(input_dim, hidden_dim))\n",
    "        # 정규화 레이어 추가\n",
    "        self.lns = nn.ModuleList()\n",
    "        self.lns.append(nn.LayerNorm(hidden_dim))\n",
    "        self.lns.append(nn.LayerNorm(hidden_dim))\n",
    "        # 총 3개 레이어 이므로 2개 추가\n",
    "        for l in range(2):\n",
    "            self.convs.append(self.build_conv_model(hidden_dim, hidden_dim))\n",
    "\n",
    "        # post-message-passing\n",
    "        self.post_mp = nn.Sequential(\n",
    "            nn.Linear(hidden_dim, hidden_dim), nn.Dropout(0.25), \n",
    "            nn.Linear(hidden_dim, output_dim))\n",
    "        if not (self.task == 'node' or self.task == 'graph'):\n",
    "            raise RuntimeError('Unknown task.')\n",
    "\n",
    "        self.dropout = 0.25\n",
    "        self.num_layers = 3\n",
    "\n",
    "    def build_conv_model(self, input_dim, hidden_dim):\n",
    "        # refer to pytorch geometric nn module for different implementation of GNNs.\n",
    "        if self.task == 'node':\n",
    "            # 원래는 GCNConv를 이용하지만, 아래에서 구현해본 결과를 살펴보기 위해서 해볼 것!\n",
    "            #return pyg_nn.GCNConv(input_dim, hidden_dim)\n",
    "            return CustomConv(input_dim, hidden_dim)\n",
    "        else:\n",
    "            return pyg_nn.GINConv(nn.Sequential(nn.Linear(input_dim, hidden_dim),\n",
    "                                  nn.ReLU(), nn.Linear(hidden_dim, hidden_dim)))\n",
    "\n",
    "    def forward(self, data):\n",
    "        x, edge_index, batch = data.x, data.edge_index, data.batch\n",
    "        if data.num_node_features == 0:\n",
    "          x = torch.ones(data.num_nodes, 1)\n",
    "        \n",
    "        # 각 레이어 사이에는 ReLU와 오버피팅을 막기 위한 드롭아웃 추가\n",
    "        # 그러나 마지막 레이어에는 추가하지 말아야함... 성능상 이유\n",
    "        for i in range(self.num_layers):\n",
    "            x = self.convs[i](x, edge_index)\n",
    "            emb = x\n",
    "            x = F.relu(x)\n",
    "            x = F.dropout(x, p=self.dropout, training=self.training)\n",
    "            if not i == self.num_layers - 1:\n",
    "                x = self.lns[i](x)\n",
    "        \n",
    "        # 그래프 분류의 경우에는 mean pool 진행해야함\n",
    "        if self.task == 'graph':\n",
    "            x = pyg_nn.global_mean_pool(x, batch)\n",
    "        \n",
    "        # 분류를 위한 fc 통과\n",
    "        x = self.post_mp(x)\n",
    "\n",
    "        return emb, F.log_softmax(x, dim=1)\n",
    "\n",
    "    def loss(self, pred, label):\n",
    "        return F.nll_loss(pred, label)"
   ]
  },
  {
   "cell_type": "markdown",
   "metadata": {
    "id": "bANNrQoh8xjF"
   },
   "source": [
    "# 3단계: Training"
   ]
  },
  {
   "cell_type": "markdown",
   "metadata": {
    "id": "yBwQxvFY83TG"
   },
   "source": [
    "CNN 모델링과 동일하게 training은 흐름이 이루어집니다. <br>\n",
    "그런데 데이터 셋의 경우, 그래프 분류의 경우에는 len을 기준(80:20)으로 나누면 되지만, 노드 분류의 경우에는 그렇지 않기 때문에 `batch.train_mask`를 활용해서 진행하게 됩니다."
   ]
  },
  {
   "cell_type": "code",
   "execution_count": 15,
   "metadata": {
    "id": "u5nqB3HHoHc7"
   },
   "outputs": [],
   "source": [
    "def train(dataset, task, writer):\n",
    "    if task == 'graph':\n",
    "        # 그래프 분류의 경우에는 단순하게 나누면 됨.\n",
    "        data_size = len(dataset)\n",
    "        loader = DataLoader(dataset[:int(data_size * 0.8)], batch_size=64, shuffle=True)\n",
    "        test_loader = DataLoader(dataset[int(data_size * 0.8):], batch_size=64, shuffle=True)\n",
    "    else:\n",
    "        # 노드 분류의 경우에는 batch.train_mask 활용할 것\n",
    "        test_loader = loader = DataLoader(dataset, batch_size=64, shuffle=True)\n",
    "\n",
    "    # build model\n",
    "    # GNNStack 대신 직접 구현한 GCN 모델 활용해볼 것\n",
    "    # GCNCustomStack(이 경우에 결과가 비슷한가??)\n",
    "    model = GNNStack(max(dataset.num_node_features, 1), 32, dataset.num_classes, task=task)\n",
    "    opt = optim.Adam(model.parameters(), lr=0.01)\n",
    "    \n",
    "    # train\n",
    "    for epoch in range(200):\n",
    "        total_loss = 0\n",
    "        model.train()\n",
    "        for batch in loader:\n",
    "            opt.zero_grad()\n",
    "            embedding, pred = model(batch)\n",
    "            label = batch.y\n",
    "            if task == 'node':\n",
    "                pred = pred[batch.train_mask]\n",
    "                label = label[batch.train_mask]\n",
    "            loss = model.loss(pred, label)\n",
    "            loss.backward()\n",
    "            opt.step()\n",
    "            total_loss += loss.item() * batch.num_graphs\n",
    "        total_loss /= len(loader.dataset)\n",
    "        writer.add_scalar(\"loss\", total_loss, epoch)\n",
    "\n",
    "        if epoch % 10 == 0:\n",
    "            test_acc = test(test_loader, model)\n",
    "            print(\"Epoch {}. Loss: {:.4f}. Test accuracy: {:.4f}\".format(\n",
    "                epoch, total_loss, test_acc))\n",
    "            writer.add_scalar(\"test accuracy\", test_acc, epoch)\n",
    "\n",
    "    return model"
   ]
  },
  {
   "cell_type": "markdown",
   "metadata": {
    "id": "rC8IPZSOXraQ"
   },
   "source": [
    "Test time, for the CiteSeer/Cora node classification task, there is only 1 graph. So we use masking to determine validation and test set.\n",
    "\n",
    "For graph classification tasks, a subset of graphs is considered validation / test graph."
   ]
  },
  {
   "cell_type": "code",
   "execution_count": 16,
   "metadata": {
    "id": "KvUBHtZaXo2h"
   },
   "outputs": [],
   "source": [
    "def test(loader, model, is_validation=False):\n",
    "    model.eval()\n",
    "\n",
    "    correct = 0\n",
    "    for data in loader:\n",
    "        with torch.no_grad():\n",
    "            emb, pred = model(data)\n",
    "            pred = pred.argmax(dim=1)\n",
    "            label = data.y\n",
    "\n",
    "        if model.task == 'node':\n",
    "            mask = data.val_mask if is_validation else data.test_mask\n",
    "            # node classification: only evaluate on nodes in test set\n",
    "            pred = pred[mask]\n",
    "            label = data.y[mask]\n",
    "            \n",
    "        correct += pred.eq(label).sum().item()\n",
    "    \n",
    "    if model.task == 'graph':\n",
    "        total = len(loader.dataset) \n",
    "    else:\n",
    "        total = 0\n",
    "        for data in loader.dataset:\n",
    "            total += torch.sum(data.test_mask).item()\n",
    "    return correct / total"
   ]
  },
  {
   "cell_type": "markdown",
   "metadata": {
    "id": "YUo2Ve8c9wGp"
   },
   "source": [
    "# 3단계: Training (실행 및 tensorboard 출력)"
   ]
  },
  {
   "cell_type": "markdown",
   "metadata": {
    "id": "frumUA-l9zua"
   },
   "source": [
    "이제 훈련과 출력을 진행합니다. <br>\n",
    "아래 명령어를 실행하면 `localhost:6006`에 텐서보드가 생성되고, 이를 통해서 log를 출력해볼 수 있습니다. <br>\n",
    "`scalars` 탭에서 리프레시를 하면 로그가 출력됩니다.<br>"
   ]
  },
  {
   "cell_type": "code",
   "execution_count": 17,
   "metadata": {
    "colab": {
     "base_uri": "https://localhost:8080/",
     "height": 34
    },
    "id": "IS1dPinuyPCy",
    "outputId": "c5997c3c-1c81-48e1-8f94-fe1386163565"
   },
   "outputs": [],
   "source": [
    "get_ipython().system_raw(\n",
    "    'tensorboard --logdir {} --host 0.0.0.0 --port 6006 &'\n",
    "    .format(\"./log\")\n",
    ")"
   ]
  },
  {
   "cell_type": "markdown",
   "metadata": {
    "id": "OUfdqmUI-HtW"
   },
   "source": [
    "텐서보드 좌측에서는 여러개 로그가 기록되었을 경우 골라서 살펴볼 수 있습니다.\n",
    "\n",
    "이제 대표적인 그래프 데이터셋은 영화(IMDB-BINARY) 데이터셋을 분류해보겠습니다."
   ]
  },
  {
   "cell_type": "code",
   "execution_count": 18,
   "metadata": {
    "colab": {
     "base_uri": "https://localhost:8080/",
     "height": 384
    },
    "id": "wf4-g8wT-qsj",
    "outputId": "740acdfb-e461-4cba-a1db-a6cd52ad7c04"
   },
   "outputs": [
    {
     "name": "stdout",
     "output_type": "stream",
     "text": [
      "Epoch 0. Loss: 1.8338. Test accuracy: 0.1667\n",
      "Epoch 10. Loss: 1.7953. Test accuracy: 0.1583\n",
      "Epoch 20. Loss: 1.7908. Test accuracy: 0.2417\n",
      "Epoch 30. Loss: 1.7723. Test accuracy: 0.1833\n",
      "Epoch 40. Loss: 1.7629. Test accuracy: 0.1167\n",
      "Epoch 50. Loss: 1.7631. Test accuracy: 0.1667\n",
      "Epoch 60. Loss: 1.7592. Test accuracy: 0.1667\n",
      "Epoch 70. Loss: 1.7387. Test accuracy: 0.2000\n",
      "Epoch 80. Loss: 1.7008. Test accuracy: 0.2667\n",
      "Epoch 90. Loss: 1.7049. Test accuracy: 0.2750\n",
      "Epoch 100. Loss: 1.6777. Test accuracy: 0.3250\n",
      "Epoch 110. Loss: 1.6876. Test accuracy: 0.2917\n",
      "Epoch 120. Loss: 1.6645. Test accuracy: 0.3167\n",
      "Epoch 130. Loss: 1.6491. Test accuracy: 0.2667\n",
      "Epoch 140. Loss: 1.6404. Test accuracy: 0.3083\n",
      "Epoch 150. Loss: 1.6450. Test accuracy: 0.3583\n",
      "Epoch 160. Loss: 1.6248. Test accuracy: 0.3000\n",
      "Epoch 170. Loss: 1.6396. Test accuracy: 0.2917\n",
      "Epoch 180. Loss: 1.6282. Test accuracy: 0.3250\n",
      "Epoch 190. Loss: 1.6063. Test accuracy: 0.3250\n"
     ]
    }
   ],
   "source": [
    "writer = SummaryWriter(\"./log/\" + datetime.now().strftime(\"%Y%m%d-%H%M%S\"))\n",
    "\n",
    "dataset = TUDataset(root='/tmp/ENZYMES', name='ENZYMES')\n",
    "dataset = dataset.shuffle()\n",
    "task = 'graph'\n",
    "\n",
    "model = train(dataset, task, writer)"
   ]
  },
  {
   "cell_type": "markdown",
   "metadata": {
    "id": "zMeWZW8-_Eg8"
   },
   "source": [
    "Citeseer citation network에 대해서는 노드 분류를 진행해보겠습니다."
   ]
  },
  {
   "cell_type": "code",
   "execution_count": 19,
   "metadata": {
    "colab": {
     "base_uri": "https://localhost:8080/",
     "height": 1000
    },
    "id": "2pREw2UQuBH4",
    "outputId": "7bf4ec6d-7654-4a0c-dbc8-8d7f798aa716"
   },
   "outputs": [
    {
     "name": "stdout",
     "output_type": "stream",
     "text": [
      "Epoch 0. Loss: 2.0201. Test accuracy: 0.2460\n",
      "Epoch 10. Loss: 0.3988. Test accuracy: 0.7940\n",
      "Epoch 20. Loss: 0.0413. Test accuracy: 0.7750\n",
      "Epoch 30. Loss: 0.0986. Test accuracy: 0.7600\n",
      "Epoch 40. Loss: 0.0326. Test accuracy: 0.7530\n",
      "Epoch 50. Loss: 0.0408. Test accuracy: 0.7480\n",
      "Epoch 60. Loss: 0.0042. Test accuracy: 0.7580\n",
      "Epoch 70. Loss: 0.0078. Test accuracy: 0.7590\n",
      "Epoch 80. Loss: 0.0069. Test accuracy: 0.7490\n",
      "Epoch 90. Loss: 0.0231. Test accuracy: 0.7530\n",
      "Epoch 100. Loss: 0.0022. Test accuracy: 0.7620\n",
      "Epoch 110. Loss: 0.0011. Test accuracy: 0.7750\n",
      "Epoch 120. Loss: 0.0021. Test accuracy: 0.7760\n",
      "Epoch 130. Loss: 0.0003. Test accuracy: 0.7590\n",
      "Epoch 140. Loss: 0.0007. Test accuracy: 0.7710\n",
      "Epoch 150. Loss: 0.0014. Test accuracy: 0.7840\n",
      "Epoch 160. Loss: 0.0010. Test accuracy: 0.7770\n",
      "Epoch 170. Loss: 0.0008. Test accuracy: 0.7690\n",
      "Epoch 180. Loss: 0.0020. Test accuracy: 0.7530\n",
      "Epoch 190. Loss: 0.0013. Test accuracy: 0.7350\n"
     ]
    }
   ],
   "source": [
    "writer = SummaryWriter(\"./log/\" + datetime.now().strftime(\"%Y%m%d-%H%M%S\"))\n",
    "\n",
    "dataset = Planetoid(root='/tmp/cora', name='cora')\n",
    "task = 'node'\n",
    "\n",
    "model = train(dataset, task, writer)"
   ]
  },
  {
   "cell_type": "markdown",
   "metadata": {
    "id": "b5xf-UrHD7rp"
   },
   "source": [
    "# 4단계: 결과 시각화 (노드 임베딩 2차원화)"
   ]
  },
  {
   "cell_type": "markdown",
   "metadata": {
    "id": "2cESIeZB_Nqf"
   },
   "source": [
    "One great quality about graph neural networks is that, like other deep methods, their hidden layers provide low-dimensional representations of our data. In the case of node classification, we get a low-dimensional representation for each node in our graph. Let's visualize the output of the last convolutional layer in our node classification GNN via TSNE, a method for plotting high-dimensional data. Nodes are colored according to their labels. We see that nodes with similar labels tend to be near each other in the embedding space, a good indication that our model has learned a useful representation.<br>\n",
    "분류한 결과값(모델을 통과시킨 값)이 군집이 잘 형성되었다는 것은 임베딩이 서로 가까웠다는 것을 의미하기 때문에 학습이 비교적 잘 이루어졌음을 의미합니다."
   ]
  },
  {
   "cell_type": "code",
   "execution_count": 20,
   "metadata": {
    "colab": {
     "base_uri": "https://localhost:8080/",
     "height": 282
    },
    "id": "i31kOOTKuLd7",
    "outputId": "c9ecbafe-84f3-41f0-86cd-f6ac47fee3c1"
   },
   "outputs": [
    {
     "data": {
      "text/plain": [
       "<matplotlib.collections.PathCollection at 0x7f924857cb20>"
      ]
     },
     "execution_count": 20,
     "metadata": {},
     "output_type": "execute_result"
    },
    {
     "data": {
      "image/png": "[encoded data removed]",
      "text/plain": [
       "<Figure size 432x288 with 1 Axes>"
      ]
     },
     "metadata": {
      "needs_background": "light"
     },
     "output_type": "display_data"
    }
   ],
   "source": [
    "color_list = [\"red\", \"orange\", \"green\", \"blue\", \"purple\", \"brown\", \"yellow\"]\n",
    "\n",
    "loader = DataLoader(dataset, batch_size=64, shuffle=True)\n",
    "embs = []\n",
    "colors = []\n",
    "for batch in loader:\n",
    "    # 모델을 통과시켜서 나온 결과를 볼 것\n",
    "    emb, pred = model(batch)\n",
    "    embs.append(emb)\n",
    "    colors += [color_list[y] for y in batch.y]\n",
    "embs = torch.cat(embs, dim=0)\n",
    "\n",
    "xs, ys = zip(*TSNE().fit_transform(embs.detach().numpy()))\n",
    "plt.scatter(xs, ys, color=colors)"
   ]
  },
  {
   "cell_type": "markdown",
   "metadata": {
    "id": "uU6STM21EJT3"
   },
   "source": [
    "# 추가: Learning unsupervised embeddings with graph autoencoders (GAE 활용)"
   ]
  },
  {
   "cell_type": "markdown",
   "metadata": {
    "id": "bLvR2pQSAk4H"
   },
   "source": [
    "Finally, GNNs fit nicely in the framework of other neural approaches, and can be used as part of autoencoder techniques, pretraining and multitask learning methods, etc. Here we explore the idea of neural network representations further by building a graph autoencoder which learns these representations in a completely unsupervised way. In contrast to the previous example, we do not make use of the given node labels when training this representation. Instead, we encode the nodes in our network in a low-dimensional space in such a way that the embeddings can be decoded into a reconstruction of the original network. We use graph convolutional layers in the encoder.\n",
    "\n",
    "You can again use TensorBoardX here to visualize the training progress.\n",
    "\n",
    "GCN 레이어를 이용해서 통과시킨 뒤에 Adj Matrix를 점곱으로 추정하는 것이 가능합니다.<br>\n",
    "`Variational Graph Auto-Encoders` 논문 참고... (매우 쉬운 논문입니다.)[4] <br>\n",
    "이를 통해서 unsupservised learning이 가능합니다."
   ]
  },
  {
   "cell_type": "code",
   "execution_count": 21,
   "metadata": {
    "colab": {
     "base_uri": "https://localhost:8080/",
     "height": 580
    },
    "id": "phCgm5idq6TH",
    "outputId": "cfd95379-0102-440a-bd01-497470dcdb7c"
   },
   "outputs": [
    {
     "name": "stdout",
     "output_type": "stream",
     "text": [
      "CUDA availability: False\n",
      "Epoch: 010, AUC: 0.6806, AP: 0.7383\n",
      "Epoch: 020, AUC: 0.7478, AP: 0.7696\n",
      "Epoch: 030, AUC: 0.7557, AP: 0.7726\n",
      "Epoch: 040, AUC: 0.7538, AP: 0.7698\n",
      "Epoch: 050, AUC: 0.7617, AP: 0.7778\n",
      "Epoch: 060, AUC: 0.7841, AP: 0.7987\n",
      "Epoch: 070, AUC: 0.8270, AP: 0.8315\n",
      "Epoch: 080, AUC: 0.8264, AP: 0.8339\n",
      "Epoch: 090, AUC: 0.8274, AP: 0.8358\n",
      "Epoch: 100, AUC: 0.8304, AP: 0.8370\n",
      "Epoch: 110, AUC: 0.8351, AP: 0.8428\n",
      "Epoch: 120, AUC: 0.8470, AP: 0.8565\n",
      "Epoch: 130, AUC: 0.8493, AP: 0.8600\n",
      "Epoch: 140, AUC: 0.8470, AP: 0.8580\n",
      "Epoch: 150, AUC: 0.8487, AP: 0.8595\n",
      "Epoch: 160, AUC: 0.8450, AP: 0.8556\n",
      "Epoch: 170, AUC: 0.8434, AP: 0.8548\n",
      "Epoch: 180, AUC: 0.8458, AP: 0.8559\n",
      "Epoch: 190, AUC: 0.8461, AP: 0.8557\n",
      "Epoch: 200, AUC: 0.8529, AP: 0.8609\n"
     ]
    }
   ],
   "source": [
    "class Encoder(torch.nn.Module):\n",
    "    def __init__(self, in_channels, out_channels):\n",
    "        super(Encoder, self).__init__()\n",
    "        self.conv1 = pyg_nn.GCNConv(in_channels, 2 * out_channels, cached=True)\n",
    "        self.conv2 = pyg_nn.GCNConv(2 * out_channels, out_channels, cached=True)\n",
    "\n",
    "    def forward(self, x, edge_index):\n",
    "        x = F.relu(self.conv1(x, edge_index))\n",
    "        return self.conv2(x, edge_index)\n",
    "\n",
    "def train(epoch):\n",
    "    model.train()\n",
    "    optimizer.zero_grad()\n",
    "    z = model.encode(x, train_pos_edge_index)\n",
    "    loss = model.recon_loss(z, train_pos_edge_index)\n",
    "    loss.backward()\n",
    "    optimizer.step()\n",
    "    \n",
    "    writer.add_scalar(\"loss\", loss.item(), epoch)\n",
    "\n",
    "def test(pos_edge_index, neg_edge_index):\n",
    "    model.eval()\n",
    "    with torch.no_grad():\n",
    "        z = model.encode(x, train_pos_edge_index)\n",
    "    return model.test(z, pos_edge_index, neg_edge_index)\n",
    "\n",
    "writer = SummaryWriter(\"./log/\" + datetime.now().strftime(\"%Y%m%d-%H%M%S\"))\n",
    "\n",
    "dataset = Planetoid(\"/tmp/citeseer\", \"Citeseer\", split='random', transform=T.NormalizeFeatures())\n",
    "data = dataset[0]\n",
    "\n",
    "channels = 16\n",
    "dev = torch.device('cuda' if torch.cuda.is_available() else 'cpu')\n",
    "print('CUDA availability:', torch.cuda.is_available())\n",
    "\n",
    "# encoder: written by us; decoder: default (inner product)\n",
    "# 점곱을 계산하는 GAE를 이용해서 앞에서 계산한 GCN을 통과시킨 것과 비교해봅니다.\n",
    "model = pyg_nn.GAE(Encoder(dataset.num_features, channels)).to(dev)\n",
    "labels = data.y\n",
    "data.train_mask = data.val_mask = data.test_mask = data.y = None\n",
    "data = pyg_utils.train_test_split_edges(data)\n",
    "# 새로운 util인 https://pytorch-geometric.readthedocs.io/en/latest/_modules/torch_geometric/utils/train_test_split_edges.html\n",
    "# train_test_split_edges 이용...\n",
    "# 원래 (현재 작동하지 않는 코드)\n",
    "# data = model.split_edges(data)\n",
    "x, train_pos_edge_index = data.x.to(dev), data.train_pos_edge_index.to(dev)\n",
    "optimizer = torch.optim.Adam(model.parameters(), lr=0.01)\n",
    "\n",
    "for epoch in range(1, 201):\n",
    "    train(epoch)\n",
    "    auc, ap = test(data.test_pos_edge_index, data.test_neg_edge_index)\n",
    "    writer.add_scalar(\"AUC\", auc, epoch)\n",
    "    writer.add_scalar(\"AP\", ap, epoch)\n",
    "    if epoch % 10 == 0:\n",
    "        print('Epoch: {:03d}, AUC: {:.4f}, AP: {:.4f}'.format(epoch, auc, ap))"
   ]
  },
  {
   "cell_type": "markdown",
   "metadata": {
    "id": "XcSCNm-GDTtQ"
   },
   "source": [
    "보면 논문과 유사한 수준의 결과가 나온 것을 알 수 있습니다(경우에 따라 4-5프로 가량 낮게 나오기도 하는데 더 돌려주면 나옵니다)<br>\n",
    "Finally, we plot our embeddings (the output of the encoder) with TSNE. We color each node embedding according to its label -- but note that we did not use any label information when training our encoder. Nodes with the same label are nevetheless close together in the embedding space. The model has learned the community structure without supervision!"
   ]
  },
  {
   "cell_type": "code",
   "execution_count": 22,
   "metadata": {
    "colab": {
     "base_uri": "https://localhost:8080/",
     "height": 269
    },
    "id": "m-R_EAYAz5kk",
    "outputId": "10d7eb3d-9749-4ef8-8699-11c330e5714f"
   },
   "outputs": [
    {
     "data": {
      "image/png": "[encoded data removed]",
      "text/plain": [
       "<Figure size 432x288 with 1 Axes>"
      ]
     },
     "metadata": {
      "needs_background": "light"
     },
     "output_type": "display_data"
    }
   ],
   "source": [
    "model.eval()\n",
    "z = model.encode(x, train_pos_edge_index)\n",
    "colors = [color_list[y] for y in labels]\n",
    "\n",
    "xs, ys = zip(*TSNE().fit_transform(z.cpu().detach().numpy()))\n",
    "plt.scatter(xs, ys, color=colors)\n",
    "plt.show()"
   ]
  },
  {
   "cell_type": "markdown",
   "metadata": {},
   "source": [
    "# Reference\n",
    "1. https://pytorch-geometric.readthedocs.io/en/latest/index.html\n",
    "2. http://snap.stanford.edu/class/cs224w-2019/\n",
    "3. http://web.stanford.edu/class/cs224w/\n",
    "4. https://arxiv.org/abs/1611.07308"
   ]
  }
 ],
 "metadata": {
  "accelerator": "GPU",
  "colab": {
   "collapsed_sections": [],
   "name": "Graph Neural Networks",
   "provenance": []
  },
  "kernelspec": {
   "display_name": "Python 3",
   "language": "python",
   "name": "python3"
  },
  "language_info": {
   "codemirror_mode": {
    "name": "ipython",
    "version": 3
   },
   "file_extension": ".py",
   "mimetype": "text/x-python",
   "name": "python",
   "nbconvert_exporter": "python",
   "pygments_lexer": "ipython3",
   "version": "3.8.2"
  }
 },
 "nbformat": 4,
 "nbformat_minor": 4
}
